{
  "cells": [
    {
      "cell_type": "markdown",
      "source": "# Programming Exercise 2: Logistic Regression\n\n## Introduction\n\nIn this exercise, you will implement logistic regression and apply it to two different datasets. Before starting on the programming exercise, we strongly recommend watching the video lectures and completing the review questions for the associated topics.\n\nAll the information you need for solving this assignment is in this notebook, and all the code you will be implementing will take place within this notebook. The assignment can be promptly submitted to the coursera grader directly from this notebook (code and instructions are included below).\n\nBefore we begin with the exercises, we need to import all libraries required for this programming exercise. Throughout the course, we will be using [`numpy`](http://www.numpy.org/) for all arrays and matrix operations, and [`matplotlib`](https://matplotlib.org/) for plotting. In this assignment, we will also use [`scipy`](https://docs.scipy.org/doc/scipy/reference/), which contains scientific and numerical computation functions and tools. \n\nYou can find instructions on how to install required libraries in the README file in the [github repository](https://github.com/dibgerge/ml-coursera-python-assignments).",
      "metadata": {
        "cell_id": "00000-b0d0200c-df2c-4c10-9e91-b7787b874326",
        "deepnote_cell_type": "markdown"
      }
    },
    {
      "cell_type": "code",
      "metadata": {
        "cell_id": "00001-a7bedd2e-ee3c-419b-98ae-7834bef85f97",
        "deepnote_to_be_reexecuted": false,
        "source_hash": "76e434d5",
        "execution_millis": 0,
        "execution_start": 1614605487119,
        "deepnote_cell_type": "code"
      },
      "source": "# used for manipulating directory paths\nimport os\n\n# Scientific and vector computation for python\nimport numpy as np\n\n# Plotting library\nfrom matplotlib import pyplot\n\n# Optimization module in scipy\nfrom scipy import optimize\n\n# library written for this exercise providing additional functions for assignment submission, and others\nimport utils\n\n# define the submission/grader object for this exercise\ngrader = utils.Grader()\n\n# tells matplotlib to embed plots within the notebook\n%matplotlib inline",
      "execution_count": null,
      "outputs": []
    },
    {
      "cell_type": "markdown",
      "source": "## Submission and Grading\n\n\nAfter completing each part of the assignment, be sure to submit your solutions to the grader. The following is a breakdown of how each part of this exercise is scored.\n\n\n| Section | Part                                 | Submission function   | Points \n| :-      |:-                                    | :-                    | :-:\n| 1       | [Sigmoid Function](#section1)                   | [`sigmoid`](#sigmoid) | 5      \n| 2       | [Compute cost for logistic regression](#section2) | [`costFunction`](#costFunction) | 30     \n| 3       | [Gradient for logistic regression](#section2)     | [`costFunction`](#costFunction) | 30     \n| 4       | [Predict Function](#section4)                     | [`predict`](#predict) | 5      \n| 5       | [Compute cost for regularized LR](#section5)      | [`costFunctionReg`](#costFunctionReg) | 15     \n| 6       | [Gradient for regularized LR](#section5)          | [`costFunctionReg`](#costFunctionReg) | 15     \n|         | Total Points                         | | 100    \n\n\n\nYou are allowed to submit your solutions multiple times, and we will take only the highest score into consideration.\n\n<div class=\"alert alert-block alert-warning\">\nAt the end of each section in this notebook, we have a cell which contains code for submitting the solutions thus far to the grader. Execute the cell to see your score up to the current section. For all your work to be submitted properly, you must execute those cells at least once. They must also be re-executed everytime the submitted function is updated.\n</div>\n",
      "metadata": {
        "cell_id": "00002-4f8adce7-4dfc-477e-83d6-2907f860446f",
        "deepnote_cell_type": "markdown"
      }
    },
    {
      "cell_type": "markdown",
      "source": "## 1 Logistic Regression\n\nIn this part of the exercise, you will build a logistic regression model to predict whether a student gets admitted into a university. Suppose that you are the administrator of a university department and\nyou want to determine each applicant’s chance of admission based on their results on two exams. You have historical data from previous applicants that you can use as a training set for logistic regression. For each training example, you have the applicant’s scores on two exams and the admissions\ndecision. Your task is to build a classification model that estimates an applicant’s probability of admission based the scores from those two exams. \n\nThe following cell will load the data and corresponding labels:",
      "metadata": {
        "cell_id": "00003-0c44e061-a357-4b2b-9fed-7bbd3fa8894e",
        "deepnote_cell_type": "markdown"
      }
    },
    {
      "cell_type": "code",
      "metadata": {
        "cell_id": "00004-b2479564-ff32-4e30-a125-3fb873efe3e4",
        "deepnote_to_be_reexecuted": false,
        "source_hash": "34ad47a7",
        "execution_millis": 16,
        "execution_start": 1614605576649,
        "deepnote_cell_type": "code"
      },
      "source": "# Load data\n# The first two columns contains the exam scores and the third column\n# contains the label.\ndata = np.loadtxt(os.path.join('Data', 'ex2data1.txt'), delimiter=',')\n\nX, y = data[:, 0:2], data[:, 2]\nprint(X)",
      "execution_count": null,
      "outputs": [
        {
          "name": "stdout",
          "text": "[[34.62365962 78.02469282]\n [30.28671077 43.89499752]\n [35.84740877 72.90219803]\n [60.18259939 86.3085521 ]\n [79.03273605 75.34437644]\n [45.08327748 56.31637178]\n [61.10666454 96.51142588]\n [75.02474557 46.55401354]\n [76.0987867  87.42056972]\n [84.43281996 43.53339331]\n [95.86155507 38.22527806]\n [75.01365839 30.60326323]\n [82.30705337 76.4819633 ]\n [69.36458876 97.71869196]\n [39.53833914 76.03681085]\n [53.97105215 89.20735014]\n [69.07014406 52.74046973]\n [67.94685548 46.67857411]\n [70.66150955 92.92713789]\n [76.97878373 47.57596365]\n [67.37202755 42.83843832]\n [89.67677575 65.79936593]\n [50.53478829 48.85581153]\n [34.21206098 44.2095286 ]\n [77.92409145 68.97235999]\n [62.27101367 69.95445795]\n [80.19018075 44.82162893]\n [93.1143888  38.80067034]\n [61.83020602 50.25610789]\n [38.7858038  64.99568096]\n [61.37928945 72.80788731]\n [85.40451939 57.05198398]\n [52.10797973 63.12762377]\n [52.04540477 69.43286012]\n [40.23689374 71.16774802]\n [54.63510555 52.21388588]\n [33.91550011 98.86943574]\n [64.17698887 80.90806059]\n [74.78925296 41.57341523]\n [34.18364003 75.23772034]\n [83.90239366 56.30804622]\n [51.54772027 46.85629026]\n [94.44336777 65.56892161]\n [82.36875376 40.61825516]\n [51.04775177 45.82270146]\n [62.22267576 52.06099195]\n [77.19303493 70.4582    ]\n [97.77159928 86.72782233]\n [62.0730638  96.76882412]\n [91.5649745  88.69629255]\n [79.94481794 74.16311935]\n [99.27252693 60.999031  ]\n [90.54671411 43.39060181]\n [34.52451385 60.39634246]\n [50.28649612 49.80453881]\n [49.58667722 59.80895099]\n [97.64563396 68.86157272]\n [32.57720017 95.59854761]\n [74.24869137 69.82457123]\n [71.79646206 78.45356225]\n [75.39561147 85.75993667]\n [35.28611282 47.02051395]\n [56.2538175  39.26147251]\n [30.05882245 49.59297387]\n [44.66826172 66.45008615]\n [66.56089447 41.09209808]\n [40.45755098 97.53518549]\n [49.07256322 51.88321182]\n [80.27957401 92.11606081]\n [66.74671857 60.99139403]\n [32.72283304 43.30717306]\n [64.03932042 78.03168802]\n [72.34649423 96.22759297]\n [60.45788574 73.0949981 ]\n [58.84095622 75.85844831]\n [99.8278578  72.36925193]\n [47.26426911 88.475865  ]\n [50.4581598  75.80985953]\n [60.45555629 42.50840944]\n [82.22666158 42.71987854]\n [88.91389642 69.8037889 ]\n [94.83450672 45.6943068 ]\n [67.31925747 66.58935318]\n [57.23870632 59.51428198]\n [80.366756   90.9601479 ]\n [68.46852179 85.5943071 ]\n [42.07545454 78.844786  ]\n [75.47770201 90.424539  ]\n [78.63542435 96.64742717]\n [52.34800399 60.76950526]\n [94.09433113 77.15910509]\n [90.44855097 87.50879176]\n [55.48216114 35.57070347]\n [74.49269242 84.84513685]\n [89.84580671 45.35828361]\n [83.48916274 48.3802858 ]\n [42.26170081 87.10385094]\n [99.31500881 68.77540947]\n [55.34001756 64.93193801]\n [74.775893   89.5298129 ]]\n",
          "output_type": "stream"
        }
      ]
    },
    {
      "cell_type": "markdown",
      "source": "### 1.1 Visualizing the data\n\nBefore starting to implement any learning algorithm, it is always good to visualize the data if possible. We  display the data on a 2-dimensional plot by calling the function `plotData`. You will now complete the code in `plotData` so that it displays a figure where the axes are the two exam scores, and the positive and negative examples are shown with different markers.\n\nTo help you get more familiar with plotting, we have left `plotData` empty so you can try to implement it yourself. However, this is an optional (ungraded) exercise. We also provide our implementation below so you can\ncopy it or refer to it. If you choose to copy our example, make sure you learn\nwhat each of its commands is doing by consulting the `matplotlib` and `numpy` documentation.\n\n```python\n# Find Indices of Positive and Negative Examples\npos = y == 1\nneg = y == 0\n\n# Plot Examples\npyplot.plot(X[pos, 0], X[pos, 1], 'k*', lw=2, ms=10)\npyplot.plot(X[neg, 0], X[neg, 1], 'ko', mfc='y', ms=8, mec='k', mew=1)\n```",
      "metadata": {
        "cell_id": "00005-f5d2299d-b89c-4801-bec2-a7b3b1db326a",
        "deepnote_cell_type": "markdown"
      }
    },
    {
      "cell_type": "code",
      "metadata": {
        "cell_id": "00006-8483c426-2f45-47a3-991f-6f9236d163ab",
        "deepnote_to_be_reexecuted": false,
        "source_hash": "e222928c",
        "execution_millis": 2,
        "execution_start": 1614605582547,
        "deepnote_cell_type": "code"
      },
      "source": "def plotData(X, y):\n    \"\"\"\n    Plots the data points X and y into a new figure. Plots the data \n    points with * for the positive examples and o for the negative examples.\n    \n    Parameters\n    ----------\n    X : array_like\n        An Mx2 matrix representing the dataset. \n    \n    y : array_like\n        Label values for the dataset. A vector of size (M, ).\n    \n    Instructions\n    ------------\n    Plot the positive and negative examples on a 2D plot, using the\n    option 'k*' for the positive examples and 'ko' for the negative examples.    \n    \"\"\"\n    # Create New Figure\n    fig = pyplot.figure()\n\n    # Find Indices of Positive and Negative Examples\n    pos = y == 1\n    neg = y == 0\n\n    # Plot Examples\n    pyplot.plot(X[pos, 0], X[pos, 1], 'k*', lw=2, ms=10)\n    pyplot.plot(X[neg, 0], X[neg, 1], 'ko', mfc='y', ms=8, mec='k', mew=1)\n\n    # ====================== YOUR CODE HERE ======================\n\n    \n    # ============================================================",
      "execution_count": null,
      "outputs": []
    },
    {
      "cell_type": "markdown",
      "source": "Now, we call the implemented function to display the loaded data:",
      "metadata": {
        "cell_id": "00007-c0950ecf-8491-44e9-bac0-ea47ae718926",
        "deepnote_cell_type": "markdown"
      }
    },
    {
      "cell_type": "code",
      "metadata": {
        "cell_id": "00008-9d76f443-f5f7-4bea-b518-156d36a544d1",
        "deepnote_to_be_reexecuted": false,
        "source_hash": "afef85a4",
        "execution_millis": 180,
        "execution_start": 1614605584603,
        "deepnote_cell_type": "code"
      },
      "source": "plotData(X, y)\n# add axes labels\npyplot.xlabel('Exam 1 score')\npyplot.ylabel('Exam 2 score')\npyplot.legend(['Admitted', 'Not admitted'])\npass",
      "execution_count": null,
      "outputs": [
        {
          "data": {
            "text/plain": "<Figure size 432x288 with 1 Axes>",
            "image/png": "[encoded data removed]"
          },
          "metadata": {
            "needs_background": "light"
          },
          "output_type": "display_data"
        }
      ]
    },
    {
      "cell_type": "markdown",
      "source": "<a id=\"section1\"></a>\n### 1.2 Implementation\n\n#### 1.2.1 Warmup exercise: sigmoid function\n\nBefore you start with the actual cost function, recall that the logistic regression hypothesis is defined as:\n\n$$ h_\\theta(x) = g(\\theta^T x)$$\n\nwhere function $g$ is the sigmoid function. The sigmoid function is defined as: \n\n$$g(z) = \\frac{1}{1+e^{-z}}$$.\n\nYour first step is to implement this function `sigmoid` so it can be\ncalled by the rest of your program. When you are finished, try testing a few\nvalues by calling `sigmoid(x)` in a new cell. For large positive values of `x`, the sigmoid should be close to 1, while for large negative values, the sigmoid should be close to 0. Evaluating `sigmoid(0)` should give you exactly 0.5. Your code should also work with vectors and matrices. **For a matrix, your function should perform the sigmoid function on every element.**\n<a id=\"sigmoid\"></a>",
      "metadata": {
        "cell_id": "00009-da1a3da7-3ea8-47d3-946f-9cd3bf5ac31e",
        "deepnote_cell_type": "markdown"
      }
    },
    {
      "cell_type": "code",
      "metadata": {
        "cell_id": "00010-04a7fb40-5492-445a-9144-996dacca8e22",
        "deepnote_to_be_reexecuted": false,
        "source_hash": "50eeac15",
        "execution_millis": 2,
        "execution_start": 1614604464714,
        "deepnote_cell_type": "code"
      },
      "source": "def sigmoid(z):\n    \"\"\"\n    Compute sigmoid function given the input z.\n    \n    Parameters\n    ----------\n    z : array_like\n        The input to the sigmoid function. This can be a 1-D vector \n        or a 2-D matrix. \n    \n    Returns\n    -------\n    g : array_like\n        The computed sigmoid function. g has the same shape as z, since\n        the sigmoid is computed element-wise on z.\n        \n    Instructions\n    ------------\n    Compute the sigmoid of each value of z (z can be a matrix, vector or scalar).\n    \"\"\"\n    # convert input to a numpy array\n    z = np.array(z)\n    \n    # You need to return the following variables correctly \n    g = np.zeros(z.shape)\n\n    g = 1/(1+np.exp(-z))\n\n    # ====================== YOUR CODE HERE ======================\n\n    \n\n    # =============================================================\n    return g",
      "execution_count": null,
      "outputs": []
    },
    {
      "cell_type": "markdown",
      "source": "The following cell evaluates the sigmoid function at `z=0`. You should get a value of 0.5. You can also try different values for `z` to experiment with the sigmoid function.",
      "metadata": {
        "cell_id": "00011-e9247dc1-7fcd-4093-9cf2-8d873c999e7d",
        "deepnote_cell_type": "markdown"
      }
    },
    {
      "cell_type": "code",
      "metadata": {
        "cell_id": "00012-7ec5f3d4-52b5-4c46-95f2-476bc4b9703b",
        "deepnote_to_be_reexecuted": false,
        "source_hash": "5adc4f53",
        "execution_millis": 9,
        "execution_start": 1614516046178,
        "deepnote_cell_type": "code"
      },
      "source": "# Test the implementation of sigmoid function here\nz = 0\ng = sigmoid(z)\n\nprint('g(', z, ') = ', g)",
      "execution_count": null,
      "outputs": [
        {
          "name": "stdout",
          "text": "g( 0 ) =  0.5\n",
          "output_type": "stream"
        }
      ]
    },
    {
      "cell_type": "markdown",
      "source": "After completing a part of the exercise, you can submit your solutions for grading by first adding the function you modified to the submission object, and then sending your function to Coursera for grading. \n\nThe submission script will prompt you for your login e-mail and submission token. You can obtain a submission token from the web page for the assignment. You are allowed to submit your solutions multiple times, and we will take only the highest score into consideration.\n\nExecute the following cell to grade your solution to the first part of this exercise.\n\n*You should now submit your solutions.*",
      "metadata": {
        "cell_id": "00013-425aa4ce-2b3a-43f6-b53e-9a6dce15aa12",
        "deepnote_cell_type": "markdown"
      }
    },
    {
      "cell_type": "code",
      "metadata": {
        "cell_id": "00014-0696d342-6eeb-4a5d-87f5-7e663507d303",
        "deepnote_to_be_reexecuted": false,
        "source_hash": "3e56fe09",
        "execution_millis": 2673,
        "execution_start": 1614606277639,
        "deepnote_cell_type": "code"
      },
      "source": "# appends the implemented function in part 1 to the grader object\ngrader[1] = sigmoid\n\n# send the added functions to coursera grader for getting a grade on this part\ngrader.grade()",
      "execution_count": null,
      "outputs": [
        {
          "name": "stdout",
          "text": "\nSubmitting Solutions | Programming Exercise logistic-regression\n\n                                  Part Name |     Score | Feedback\n                                  --------- |     ----- | --------\n                           Sigmoid Function |   5 /   5 | Nice work!\n                   Logistic Regression Cost |   0 /  30 | \n               Logistic Regression Gradient |   0 /  30 | \n                                    Predict |   5 /   5 | Nice work!\n       Regularized Logistic Regression Cost |   0 /  15 | \n   Regularized Logistic Regression Gradient |   0 /  15 | \n                                  --------------------------------\n                                            |  10 / 100 |  \n\n",
          "output_type": "stream"
        }
      ]
    },
    {
      "cell_type": "markdown",
      "source": "<a id=\"section2\"></a>\n#### 1.2.2 Cost function and gradient\n\nNow you will implement the cost function and gradient for logistic regression. Before proceeding we add the intercept term to X. ",
      "metadata": {
        "cell_id": "00015-3d49a3b7-2b75-4ad3-a4fd-86933b5d68ec",
        "deepnote_cell_type": "markdown"
      }
    },
    {
      "cell_type": "code",
      "metadata": {
        "cell_id": "00016-8741a61c-7b1d-489f-92dc-1527606660f3",
        "deepnote_to_be_reexecuted": false,
        "source_hash": "71c7a7c",
        "execution_millis": 9,
        "execution_start": 1614606203015,
        "deepnote_cell_type": "code"
      },
      "source": "# Setup the data matrix appropriately, and add ones for the intercept term\nm, n = X.shape\n\n# Add intercept term to X\nX = np.concatenate([np.ones((m, 1)), X], axis=1)\nprint(X)",
      "execution_count": null,
      "outputs": [
        {
          "name": "stdout",
          "text": "[[ 1.         34.62365962 78.02469282]\n [ 1.         30.28671077 43.89499752]\n [ 1.         35.84740877 72.90219803]\n [ 1.         60.18259939 86.3085521 ]\n [ 1.         79.03273605 75.34437644]\n [ 1.         45.08327748 56.31637178]\n [ 1.         61.10666454 96.51142588]\n [ 1.         75.02474557 46.55401354]\n [ 1.         76.0987867  87.42056972]\n [ 1.         84.43281996 43.53339331]\n [ 1.         95.86155507 38.22527806]\n [ 1.         75.01365839 30.60326323]\n [ 1.         82.30705337 76.4819633 ]\n [ 1.         69.36458876 97.71869196]\n [ 1.         39.53833914 76.03681085]\n [ 1.         53.97105215 89.20735014]\n [ 1.         69.07014406 52.74046973]\n [ 1.         67.94685548 46.67857411]\n [ 1.         70.66150955 92.92713789]\n [ 1.         76.97878373 47.57596365]\n [ 1.         67.37202755 42.83843832]\n [ 1.         89.67677575 65.79936593]\n [ 1.         50.53478829 48.85581153]\n [ 1.         34.21206098 44.2095286 ]\n [ 1.         77.92409145 68.97235999]\n [ 1.         62.27101367 69.95445795]\n [ 1.         80.19018075 44.82162893]\n [ 1.         93.1143888  38.80067034]\n [ 1.         61.83020602 50.25610789]\n [ 1.         38.7858038  64.99568096]\n [ 1.         61.37928945 72.80788731]\n [ 1.         85.40451939 57.05198398]\n [ 1.         52.10797973 63.12762377]\n [ 1.         52.04540477 69.43286012]\n [ 1.         40.23689374 71.16774802]\n [ 1.         54.63510555 52.21388588]\n [ 1.         33.91550011 98.86943574]\n [ 1.         64.17698887 80.90806059]\n [ 1.         74.78925296 41.57341523]\n [ 1.         34.18364003 75.23772034]\n [ 1.         83.90239366 56.30804622]\n [ 1.         51.54772027 46.85629026]\n [ 1.         94.44336777 65.56892161]\n [ 1.         82.36875376 40.61825516]\n [ 1.         51.04775177 45.82270146]\n [ 1.         62.22267576 52.06099195]\n [ 1.         77.19303493 70.4582    ]\n [ 1.         97.77159928 86.72782233]\n [ 1.         62.0730638  96.76882412]\n [ 1.         91.5649745  88.69629255]\n [ 1.         79.94481794 74.16311935]\n [ 1.         99.27252693 60.999031  ]\n [ 1.         90.54671411 43.39060181]\n [ 1.         34.52451385 60.39634246]\n [ 1.         50.28649612 49.80453881]\n [ 1.         49.58667722 59.80895099]\n [ 1.         97.64563396 68.86157272]\n [ 1.         32.57720017 95.59854761]\n [ 1.         74.24869137 69.82457123]\n [ 1.         71.79646206 78.45356225]\n [ 1.         75.39561147 85.75993667]\n [ 1.         35.28611282 47.02051395]\n [ 1.         56.2538175  39.26147251]\n [ 1.         30.05882245 49.59297387]\n [ 1.         44.66826172 66.45008615]\n [ 1.         66.56089447 41.09209808]\n [ 1.         40.45755098 97.53518549]\n [ 1.         49.07256322 51.88321182]\n [ 1.         80.27957401 92.11606081]\n [ 1.         66.74671857 60.99139403]\n [ 1.         32.72283304 43.30717306]\n [ 1.         64.03932042 78.03168802]\n [ 1.         72.34649423 96.22759297]\n [ 1.         60.45788574 73.0949981 ]\n [ 1.         58.84095622 75.85844831]\n [ 1.         99.8278578  72.36925193]\n [ 1.         47.26426911 88.475865  ]\n [ 1.         50.4581598  75.80985953]\n [ 1.         60.45555629 42.50840944]\n [ 1.         82.22666158 42.71987854]\n [ 1.         88.91389642 69.8037889 ]\n [ 1.         94.83450672 45.6943068 ]\n [ 1.         67.31925747 66.58935318]\n [ 1.         57.23870632 59.51428198]\n [ 1.         80.366756   90.9601479 ]\n [ 1.         68.46852179 85.5943071 ]\n [ 1.         42.07545454 78.844786  ]\n [ 1.         75.47770201 90.424539  ]\n [ 1.         78.63542435 96.64742717]\n [ 1.         52.34800399 60.76950526]\n [ 1.         94.09433113 77.15910509]\n [ 1.         90.44855097 87.50879176]\n [ 1.         55.48216114 35.57070347]\n [ 1.         74.49269242 84.84513685]\n [ 1.         89.84580671 45.35828361]\n [ 1.         83.48916274 48.3802858 ]\n [ 1.         42.26170081 87.10385094]\n [ 1.         99.31500881 68.77540947]\n [ 1.         55.34001756 64.93193801]\n [ 1.         74.775893   89.5298129 ]]\n",
          "output_type": "stream"
        }
      ]
    },
    {
      "cell_type": "markdown",
      "source": "Now, complete the code for the function `costFunction` to return the cost and gradient. Recall that the cost function in logistic regression is\n\n$$ J(\\theta) = \\frac{1}{m} \\sum_{i=1}^{m} \\left[ -y^{(i)} \\log\\left(h_\\theta\\left( x^{(i)} \\right) \\right) - \\left( 1 - y^{(i)}\\right) \\log \\left( 1 - h_\\theta\\left( x^{(i)} \\right) \\right) \\right]$$\n\nand the gradient of the cost is a vector of the same length as $\\theta$ where the $j^{th}$\nelement (for $j = 0, 1, \\cdots , n$) is defined as follows:\n\n$$ \\frac{\\partial J(\\theta)}{\\partial \\theta_j} = \\frac{1}{m} \\sum_{i=1}^m \\left( h_\\theta \\left( x^{(i)} \\right) - y^{(i)} \\right) x_j^{(i)} $$\n\nNote that while this gradient looks identical to the linear regression gradient, the formula is actually different because linear and logistic regression have different definitions of $h_\\theta(x)$.\n<a id=\"costFunction\"></a>",
      "metadata": {
        "cell_id": "00017-909912c1-c044-439d-8103-6f39bd6b2868",
        "deepnote_cell_type": "markdown"
      }
    },
    {
      "cell_type": "code",
      "metadata": {
        "cell_id": "00018-93729f05-a4a1-4cae-b399-c63ad1fd7bf4",
        "deepnote_to_be_reexecuted": false,
        "source_hash": "bd3d97ce",
        "execution_millis": 2,
        "execution_start": 1614606208616,
        "deepnote_cell_type": "code"
      },
      "source": "def costFunction(theta, X, y):\n    \"\"\"\n    Compute cost and gradient for logistic regression. \n    \n    Parameters\n    ----------\n    theta : array_like\n        The parameters for logistic regression. This a vector\n        of shape (n+1, ).\n    \n    X : array_like\n        The input dataset of shape (m x n+1) where m is the total number\n        of data points and n is the number of features. We assume the \n        intercept has already been added to the input.\n    \n    y : array_like\n        Labels for the input. This is a vector of shape (m, ).\n    \n    Returns\n    -------\n    J : float\n        The computed value for the cost function. \n    \n    grad : array_like\n        A vector of shape (n+1, ) which is the gradient of the cost\n        function with respect to theta, at the current values of theta.\n        \n    Instructions\n    ------------\n    Compute the cost of a particular choice of theta. You should set J to \n    the cost. Compute the partial derivatives and set grad to the partial\n    derivatives of the cost w.r.t. each parameter in theta.\n    \"\"\"\n    # Initialize some useful values\n    m = y.size  # number of training examples\n\n    # You need to return the following variables correctly \n    J = 0\n    grad = np.zeros(theta.shape)\n\n    for i in range(m):\n        J += (-y[i]*np.log(sigmoid(np.dot(theta.transpose(),X[i]))) - (1-y[i])*np.log(1-sigmoid(np.dot(theta.transpose(),X[i]))))/m\n\n        for j in range(n+1):\n            grad[j] += (sigmoid(np.dot(theta.transpose(),X[i])) - y[i])*X[i][j]/m\n    # ====================== YOUR CODE HERE ======================\n\n    \n    \n    # =============================================================\n    return J, grad",
      "execution_count": null,
      "outputs": []
    },
    {
      "cell_type": "markdown",
      "source": "Once you are done call your `costFunction` using two test cases for  $\\theta$ by executing the next cell.",
      "metadata": {
        "cell_id": "00019-cf5dd176-296e-4639-918d-62bfd863d8af",
        "deepnote_cell_type": "markdown"
      }
    },
    {
      "cell_type": "code",
      "metadata": {
        "cell_id": "00020-666c1f26-28a4-4fda-9893-38aeaf60c0b7",
        "deepnote_to_be_reexecuted": false,
        "source_hash": "5aed2a",
        "execution_millis": 8,
        "execution_start": 1614606211236,
        "deepnote_cell_type": "code"
      },
      "source": "# Initialize fitting parameters\ninitial_theta = np.zeros(n+1)\n\ncost, grad = costFunction(initial_theta, X, y)\n\nprint('Cost at initial theta (zeros): {:.3f}'.format(cost))\nprint('Expected cost (approx): 0.693\\n')\n\nprint('Gradient at initial theta (zeros):')\nprint('\\t[{:.4f}, {:.4f}, {:.4f}]'.format(*grad))\nprint('Expected gradients (approx):\\n\\t[-0.1000, -12.0092, -11.2628]\\n')\n\n# Compute and display cost and gradient with non-zero theta\ntest_theta = np.array([-24, 0.2, 0.2])\ncost, grad = costFunction(test_theta, X, y)\n\nprint('Cost at test theta: {:.3f}'.format(cost))\nprint('Expected cost (approx): 0.218\\n')\n\nprint('Gradient at test theta:')\nprint('\\t[{:.3f}, {:.3f}, {:.3f}]'.format(*grad))\nprint('Expected gradients (approx):\\n\\t[0.043, 2.566, 2.647]')",
      "execution_count": null,
      "outputs": [
        {
          "name": "stdout",
          "text": "Cost at initial theta (zeros): 0.693\nExpected cost (approx): 0.693\n\nGradient at initial theta (zeros):\n\t[-0.1000, -12.0092, -11.2628]\nExpected gradients (approx):\n\t[-0.1000, -12.0092, -11.2628]\n\nCost at test theta: 0.218\nExpected cost (approx): 0.218\n\nGradient at test theta:\n\t[0.043, 2.566, 2.647]\nExpected gradients (approx):\n\t[0.043, 2.566, 2.647]\n",
          "output_type": "stream"
        }
      ]
    },
    {
      "cell_type": "markdown",
      "source": "*You should now submit your solutions.*",
      "metadata": {
        "cell_id": "00021-3dfb32ca-3ec7-4d0c-91a9-3e3c99856df1",
        "deepnote_cell_type": "markdown"
      }
    },
    {
      "cell_type": "code",
      "metadata": {
        "cell_id": "00022-7baf2b46-6f31-475f-8955-bbd657f0238c",
        "deepnote_to_be_reexecuted": false,
        "source_hash": "327c0e69",
        "execution_millis": 2464,
        "execution_start": 1614606287414,
        "deepnote_cell_type": "code"
      },
      "source": "grader[2] = costFunction\ngrader[3] = costFunction\ngrader.grade()",
      "execution_count": null,
      "outputs": [
        {
          "name": "stdout",
          "text": "\nSubmitting Solutions | Programming Exercise logistic-regression\n\n                                  Part Name |     Score | Feedback\n                                  --------- |     ----- | --------\n                           Sigmoid Function |   5 /   5 | Nice work!\n                   Logistic Regression Cost |  30 /  30 | Nice work!\n               Logistic Regression Gradient |  30 /  30 | Nice work!\n                                    Predict |   5 /   5 | Nice work!\n       Regularized Logistic Regression Cost |   0 /  15 | \n   Regularized Logistic Regression Gradient |   0 /  15 | \n                                  --------------------------------\n                                            |  70 / 100 |  \n\n",
          "output_type": "stream"
        }
      ]
    },
    {
      "cell_type": "markdown",
      "source": "#### 1.2.3 Learning parameters using `scipy.optimize`\n\nIn the previous assignment, you found the optimal parameters of a linear regression model by implementing gradient descent. You wrote a cost function and calculated its gradient, then took a gradient descent step accordingly. This time, instead of taking gradient descent steps, you will use the [`scipy.optimize` module](https://docs.scipy.org/doc/scipy/reference/optimize.html). SciPy is a numerical computing library for `python`. It provides an optimization module for root finding and minimization. As of `scipy 1.0`, the function `scipy.optimize.minimize` is the method to use for optimization problems(both constrained and unconstrained).\n\nFor logistic regression, you want to optimize the cost function $J(\\theta)$ with parameters $\\theta$.\nConcretely, you are going to use `optimize.minimize` to find the best parameters $\\theta$ for the logistic regression cost function, given a fixed dataset (of X and y values). You will pass to `optimize.minimize` the following inputs:\n- `costFunction`: A cost function that, when given the training set and a particular $\\theta$, computes the logistic regression cost and gradient with respect to $\\theta$ for the dataset (X, y). It is important to note that we only pass the name of the function without the parenthesis. This indicates that we are only providing a reference to this function, and not evaluating the result from this function.\n- `initial_theta`: The initial values of the parameters we are trying to optimize.\n- `(X, y)`: These are additional arguments to the cost function.\n- `jac`: Indication if the cost function returns the Jacobian (gradient) along with cost value. (True)\n- `method`: Optimization method/algorithm to use\n- `options`: Additional options which might be specific to the specific optimization method. In the following, we only tell the algorithm the maximum number of iterations before it terminates.\n\nIf you have completed the `costFunction` correctly, `optimize.minimize` will converge on the right optimization parameters and return the final values of the cost and $\\theta$ in a class object. Notice that by using `optimize.minimize`, you did not have to write any loops yourself, or set a learning rate like you did for gradient descent. This is all done by `optimize.minimize`: you only needed to provide a function calculating the cost and the gradient.\n\nIn the following, we already have code written to call `optimize.minimize` with the correct arguments.",
      "metadata": {
        "cell_id": "00023-c67cb5e0-36fc-4ef3-ac41-3d6122cdc369",
        "deepnote_cell_type": "markdown"
      }
    },
    {
      "cell_type": "code",
      "metadata": {
        "cell_id": "00024-8cd5eec3-da67-4d2e-8158-a0f657f8c0fa",
        "deepnote_to_be_reexecuted": false,
        "source_hash": "6af916b7",
        "execution_millis": 203,
        "execution_start": 1614604803716,
        "deepnote_cell_type": "code"
      },
      "source": "# set options for optimize.minimize\noptions= {'maxiter': 400}\n\n# see documention for scipy's optimize.minimize  for description about\n# the different parameters\n# The function returns an object `OptimizeResult`\n# We use truncated Newton algorithm for optimization which is \n# equivalent to MATLAB's fminunc\n# See https://stackoverflow.com/questions/18801002/fminunc-alternate-in-numpy\nres = optimize.minimize(costFunction,\n                        np.zeros(3),\n                        (X, y),\n                        jac=True,\n                        method='TNC',\n                        options=options)\n\n# the fun property of `OptimizeResult` object returns\n# the value of costFunction at optimized theta\ncost = res.fun\n\n# the optimized theta is in the x property\ntheta = res.x\n\n# Print theta to screen\nprint('Cost at theta found by optimize.minimize: {:.3f}'.format(cost))\nprint('Expected cost (approx): 0.203\\n');\n\nprint('theta:')\nprint('\\t[{:.3f}, {:.3f}, {:.3f}]'.format(*theta))\nprint('Expected theta (approx):\\n\\t[-25.161, 0.206, 0.201]')",
      "execution_count": null,
      "outputs": [
        {
          "name": "stdout",
          "text": "Cost at theta found by optimize.minimize: 0.203\nExpected cost (approx): 0.203\n\ntheta:\n\t[-25.161, 0.206, 0.201]\nExpected theta (approx):\n\t[-25.161, 0.206, 0.201]\n",
          "output_type": "stream"
        }
      ]
    },
    {
      "cell_type": "markdown",
      "source": "Once `optimize.minimize` completes, we want to use the final value for $\\theta$ to visualize the decision boundary on the training data as shown in the figure below. \n\n![](Figures/decision_boundary1.png)\n\nTo do so, we have written a function `plotDecisionBoundary` for plotting the decision boundary on top of training data. You do not need to write any code for plotting the decision boundary, but we also encourage you to look at the code in `plotDecisionBoundary` to see how to plot such a boundary using the $\\theta$ values. You can find this function in the `utils.py` file which comes with this assignment.",
      "metadata": {
        "cell_id": "00025-3e44bfe8-2cac-467d-8ff9-a17556750bcc",
        "deepnote_cell_type": "markdown"
      }
    },
    {
      "cell_type": "code",
      "metadata": {
        "cell_id": "00026-7e9ca3cd-6cac-4f20-97e1-7c0b0c12ce8e",
        "deepnote_to_be_reexecuted": false,
        "source_hash": "57c131c2",
        "execution_millis": 34,
        "execution_start": 1614605537933,
        "deepnote_cell_type": "code"
      },
      "source": "# Plot Boundary\nutils.plotDecisionBoundary(plotData, theta, X, y)",
      "execution_count": null,
      "outputs": [
        {
          "output_type": "error",
          "ename": "IndexError",
          "evalue": "index 1 is out of bounds for axis 1 with size 1",
          "traceback": [
            "\u001b[0;31m---------------------------------------------------------------------------\u001b[0m",
            "\u001b[0;31mIndexError\u001b[0m                                Traceback (most recent call last)",
            "\u001b[0;32m<ipython-input-17-dcd73737e916>\u001b[0m in \u001b[0;36m<module>\u001b[0;34m\u001b[0m\n\u001b[1;32m      1\u001b[0m \u001b[0;31m# Plot Boundary\u001b[0m\u001b[0;34m\u001b[0m\u001b[0;34m\u001b[0m\u001b[0;34m\u001b[0m\u001b[0m\n\u001b[0;32m----> 2\u001b[0;31m \u001b[0mutils\u001b[0m\u001b[0;34m.\u001b[0m\u001b[0mplotDecisionBoundary\u001b[0m\u001b[0;34m(\u001b[0m\u001b[0mplotData\u001b[0m\u001b[0;34m,\u001b[0m \u001b[0mtheta\u001b[0m\u001b[0;34m,\u001b[0m \u001b[0mX\u001b[0m\u001b[0;34m,\u001b[0m \u001b[0my\u001b[0m\u001b[0;34m)\u001b[0m\u001b[0;34m\u001b[0m\u001b[0;34m\u001b[0m\u001b[0m\n\u001b[0m",
            "\u001b[0;32m/work/Exercise2/utils.py\u001b[0m in \u001b[0;36mplotDecisionBoundary\u001b[0;34m(plotData, theta, X, y)\u001b[0m\n\u001b[1;32m     71\u001b[0m \u001b[0;34m\u001b[0m\u001b[0m\n\u001b[1;32m     72\u001b[0m     \u001b[0;31m# Plot Data (remember first column in X is the intercept)\u001b[0m\u001b[0;34m\u001b[0m\u001b[0;34m\u001b[0m\u001b[0;34m\u001b[0m\u001b[0m\n\u001b[0;32m---> 73\u001b[0;31m     \u001b[0mplotData\u001b[0m\u001b[0;34m(\u001b[0m\u001b[0mX\u001b[0m\u001b[0;34m[\u001b[0m\u001b[0;34m:\u001b[0m\u001b[0;34m,\u001b[0m \u001b[0;36m1\u001b[0m\u001b[0;34m:\u001b[0m\u001b[0;36m3\u001b[0m\u001b[0;34m]\u001b[0m\u001b[0;34m,\u001b[0m \u001b[0my\u001b[0m\u001b[0;34m)\u001b[0m\u001b[0;34m\u001b[0m\u001b[0;34m\u001b[0m\u001b[0m\n\u001b[0m\u001b[1;32m     74\u001b[0m \u001b[0;34m\u001b[0m\u001b[0m\n\u001b[1;32m     75\u001b[0m     \u001b[0;32mif\u001b[0m \u001b[0mX\u001b[0m\u001b[0;34m.\u001b[0m\u001b[0mshape\u001b[0m\u001b[0;34m[\u001b[0m\u001b[0;36m1\u001b[0m\u001b[0;34m]\u001b[0m \u001b[0;34m<=\u001b[0m \u001b[0;36m3\u001b[0m\u001b[0;34m:\u001b[0m\u001b[0;34m\u001b[0m\u001b[0;34m\u001b[0m\u001b[0m\n",
            "\u001b[0;32m<ipython-input-15-64efaa012038>\u001b[0m in \u001b[0;36mplotData\u001b[0;34m(X, y)\u001b[0m\n\u001b[1;32m     25\u001b[0m \u001b[0;34m\u001b[0m\u001b[0m\n\u001b[1;32m     26\u001b[0m     \u001b[0;31m# Plot Examples\u001b[0m\u001b[0;34m\u001b[0m\u001b[0;34m\u001b[0m\u001b[0;34m\u001b[0m\u001b[0m\n\u001b[0;32m---> 27\u001b[0;31m     \u001b[0mpyplot\u001b[0m\u001b[0;34m.\u001b[0m\u001b[0mplot\u001b[0m\u001b[0;34m(\u001b[0m\u001b[0mX\u001b[0m\u001b[0;34m[\u001b[0m\u001b[0mpos\u001b[0m\u001b[0;34m,\u001b[0m \u001b[0;36m0\u001b[0m\u001b[0;34m]\u001b[0m\u001b[0;34m,\u001b[0m \u001b[0mX\u001b[0m\u001b[0;34m[\u001b[0m\u001b[0mpos\u001b[0m\u001b[0;34m,\u001b[0m \u001b[0;36m1\u001b[0m\u001b[0;34m]\u001b[0m\u001b[0;34m,\u001b[0m \u001b[0;34m'k*'\u001b[0m\u001b[0;34m,\u001b[0m \u001b[0mlw\u001b[0m\u001b[0;34m=\u001b[0m\u001b[0;36m2\u001b[0m\u001b[0;34m,\u001b[0m \u001b[0mms\u001b[0m\u001b[0;34m=\u001b[0m\u001b[0;36m10\u001b[0m\u001b[0;34m)\u001b[0m\u001b[0;34m\u001b[0m\u001b[0;34m\u001b[0m\u001b[0m\n\u001b[0m\u001b[1;32m     28\u001b[0m     \u001b[0mpyplot\u001b[0m\u001b[0;34m.\u001b[0m\u001b[0mplot\u001b[0m\u001b[0;34m(\u001b[0m\u001b[0mX\u001b[0m\u001b[0;34m[\u001b[0m\u001b[0mneg\u001b[0m\u001b[0;34m,\u001b[0m \u001b[0;36m0\u001b[0m\u001b[0;34m]\u001b[0m\u001b[0;34m,\u001b[0m \u001b[0mX\u001b[0m\u001b[0;34m[\u001b[0m\u001b[0mneg\u001b[0m\u001b[0;34m,\u001b[0m \u001b[0;36m1\u001b[0m\u001b[0;34m]\u001b[0m\u001b[0;34m,\u001b[0m \u001b[0;34m'ko'\u001b[0m\u001b[0;34m,\u001b[0m \u001b[0mmfc\u001b[0m\u001b[0;34m=\u001b[0m\u001b[0;34m'y'\u001b[0m\u001b[0;34m,\u001b[0m \u001b[0mms\u001b[0m\u001b[0;34m=\u001b[0m\u001b[0;36m8\u001b[0m\u001b[0;34m,\u001b[0m \u001b[0mmec\u001b[0m\u001b[0;34m=\u001b[0m\u001b[0;34m'k'\u001b[0m\u001b[0;34m,\u001b[0m \u001b[0mmew\u001b[0m\u001b[0;34m=\u001b[0m\u001b[0;36m1\u001b[0m\u001b[0;34m)\u001b[0m\u001b[0;34m\u001b[0m\u001b[0;34m\u001b[0m\u001b[0m\n\u001b[1;32m     29\u001b[0m \u001b[0;34m\u001b[0m\u001b[0m\n",
            "\u001b[0;31mIndexError\u001b[0m: index 1 is out of bounds for axis 1 with size 1"
          ]
        },
        {
          "data": {
            "text/plain": "<Figure size 432x288 with 0 Axes>"
          },
          "metadata": {},
          "output_type": "display_data"
        }
      ]
    },
    {
      "cell_type": "markdown",
      "source": "<a id=\"section4\"></a>\n#### 1.2.4 Evaluating logistic regression\n\nAfter learning the parameters, you can use the model to predict whether a particular student will be admitted. For a student with an Exam 1 score of 45 and an Exam 2 score of 85, you should expect to see an admission\nprobability of 0.776. Another way to evaluate the quality of the parameters we have found is to see how well the learned model predicts on our training set. In this part, your task is to complete the code in function `predict`. The predict function will produce “1” or “0” predictions given a dataset and a learned parameter vector $\\theta$. \n<a id=\"predict\"></a>",
      "metadata": {
        "cell_id": "00027-0e70b52d-275c-4f12-822d-aff2aadff557",
        "deepnote_cell_type": "markdown"
      }
    },
    {
      "cell_type": "code",
      "metadata": {
        "cell_id": "00028-d1fa7b55-f265-4fe3-af36-8a39e6361fa3",
        "deepnote_to_be_reexecuted": false,
        "source_hash": "f9f183fe",
        "execution_millis": 6,
        "execution_start": 1614606219027,
        "deepnote_cell_type": "code"
      },
      "source": "def predict(theta, X):\n    \"\"\"\n    Predict whether the label is 0 or 1 using learned logistic regression.\n    Computes the predictions for X using a threshold at 0.5 \n    (i.e., if sigmoid(theta.T*x) >= 0.5, predict 1)\n    \n    Parameters\n    ----------\n    theta : array_like\n        Parameters for logistic regression. A vecotor of shape (n+1, ).\n    \n    X : array_like\n        The data to use for computing predictions. The rows is the number \n        of points to compute predictions, and columns is the number of\n        features.\n\n    Returns\n    -------\n    p : array_like\n        Predictions and 0 or 1 for each row in X. \n    \n    Instructions\n    ------------\n    Complete the following code to make predictions using your learned \n    logistic regression parameters.You should set p to a vector of 0's and 1's    \n    \"\"\"\n    m = X.shape[0] # Number of training examples\n\n    # You need to return the following variables correctly\n    p = np.zeros(m)\n\n    for i in range(m):\n        h = sigmoid(np.dot(theta.transpose(),X[i]))\n        if h < 0.5:\n            p[i]= 0\n        else:\n            p[i]= 1\n\n    # ====================== YOUR CODE HERE ======================\n\n    \n    \n    # ============================================================\n    return p\n\nprint(predict(theta, X))",
      "execution_count": null,
      "outputs": [
        {
          "name": "stdout",
          "text": "[0. 0. 0. 1. 1. 0. 1. 0. 1. 1. 1. 0. 1. 1. 0. 1. 0. 0. 1. 1. 0. 1. 0. 0.\n 1. 1. 1. 1. 0. 0. 1. 1. 0. 0. 0. 0. 1. 1. 0. 0. 1. 0. 1. 1. 0. 0. 1. 1.\n 1. 1. 1. 1. 1. 0. 0. 0. 1. 1. 1. 1. 1. 0. 0. 0. 0. 0. 1. 0. 1. 1. 0. 1.\n 1. 1. 1. 1. 1. 1. 0. 1. 1. 1. 1. 0. 1. 1. 0. 1. 1. 0. 1. 1. 0. 1. 1. 1.\n 1. 1. 0. 1.]\n",
          "output_type": "stream"
        }
      ]
    },
    {
      "cell_type": "markdown",
      "source": "After you have completed the code in `predict`, we proceed to report the training accuracy of your classifier by computing the percentage of examples it got correct.",
      "metadata": {
        "cell_id": "00029-94e2a0b5-6cb9-4bf0-95db-38781a0686a6",
        "deepnote_cell_type": "markdown"
      }
    },
    {
      "cell_type": "code",
      "metadata": {
        "cell_id": "00030-4f19ea6f-2ba2-4dfe-94f4-439e0318033d",
        "deepnote_to_be_reexecuted": false,
        "source_hash": "3c0ff882",
        "execution_millis": 12,
        "execution_start": 1614606222532,
        "deepnote_cell_type": "code"
      },
      "source": "#  Predict probability for a student with score 45 on exam 1 \n#  and score 85 on exam 2 \nprob = sigmoid(np.dot([1, 45, 85], theta))\nprint('For a student with scores 45 and 85,'\n      'we predict an admission probability of {:.3f}'.format(prob))\nprint('Expected value: 0.775 +/- 0.002\\n')\n\n# Compute accuracy on our training set\np = predict(theta, X)\nprint('Train Accuracy: {:.2f} %'.format(np.mean(p == y) * 100))\nprint('Expected accuracy (approx): 89.00 %')",
      "execution_count": null,
      "outputs": [
        {
          "name": "stdout",
          "text": "For a student with scores 45 and 85,we predict an admission probability of 0.776\nExpected value: 0.775 +/- 0.002\n\nTrain Accuracy: 89.00 %\nExpected accuracy (approx): 89.00 %\n",
          "output_type": "stream"
        }
      ]
    },
    {
      "cell_type": "code",
      "metadata": {
        "tags": [],
        "cell_id": "00031-e8198ad2-4d1b-4aff-91fc-e80bcb854ed0",
        "deepnote_to_be_reexecuted": false,
        "source_hash": "f39efd0a",
        "execution_start": 1614606095507,
        "execution_millis": 7,
        "deepnote_cell_type": "code"
      },
      "source": "theta",
      "execution_count": null,
      "outputs": [
        {
          "output_type": "execute_result",
          "execution_count": 27,
          "data": {
            "text/plain": "array([-25.16131863,   0.20623159,   0.20147149])"
          },
          "metadata": {}
        }
      ]
    },
    {
      "cell_type": "markdown",
      "source": "*You should now submit your solutions.*",
      "metadata": {
        "cell_id": "00031-e70ce8e7-c4a7-4c77-9c31-cdf0d6542f52",
        "deepnote_cell_type": "markdown"
      }
    },
    {
      "cell_type": "code",
      "metadata": {
        "cell_id": "00032-0e6efd04-6637-4cc7-b7f6-488181c4bcab",
        "deepnote_to_be_reexecuted": false,
        "source_hash": "8599735b",
        "execution_start": 1614606251187,
        "execution_millis": 3656,
        "deepnote_cell_type": "code"
      },
      "source": "grader[4] = predict\ngrader.grade()",
      "execution_count": null,
      "outputs": [
        {
          "name": "stdout",
          "text": "\nSubmitting Solutions | Programming Exercise logistic-regression\n\n                                  Part Name |     Score | Feedback\n                                  --------- |     ----- | --------\n                           Sigmoid Function |   0 /   5 | \n                   Logistic Regression Cost |   0 /  30 | \n               Logistic Regression Gradient |   0 /  30 | \n                                    Predict |   5 /   5 | Nice work!\n       Regularized Logistic Regression Cost |   0 /  15 | \n   Regularized Logistic Regression Gradient |   0 /  15 | \n                                  --------------------------------\n                                            |   5 / 100 |  \n\n",
          "output_type": "stream"
        }
      ]
    },
    {
      "cell_type": "markdown",
      "source": "## 2 Regularized logistic regression\n\nIn this part of the exercise, you will implement regularized logistic regression to predict whether microchips from a fabrication plant passes quality assurance (QA). During QA, each microchip goes through various tests to ensure it is functioning correctly.\nSuppose you are the product manager of the factory and you have the test results for some microchips on two different tests. From these two tests, you would like to determine whether the microchips should be accepted or rejected. To help you make the decision, you have a dataset of test results on past microchips, from which you can build a logistic regression model.\n\nFirst, we load the data from a CSV file:",
      "metadata": {
        "cell_id": "00033-67e98d6d-e422-468d-96c2-ad728ab92cbd",
        "deepnote_cell_type": "markdown"
      }
    },
    {
      "cell_type": "code",
      "metadata": {
        "cell_id": "00034-5a2dda60-ddc0-4bcb-93ad-135eb466969e",
        "deepnote_to_be_reexecuted": false,
        "source_hash": "744fb2c",
        "execution_start": 1614606316067,
        "execution_millis": 1,
        "deepnote_cell_type": "code"
      },
      "source": "# Load Data\n# The first two columns contains the X values and the third column\n# contains the label (y).\ndata = np.loadtxt(os.path.join('Data', 'ex2data2.txt'), delimiter=',')\nX = data[:, :2]\ny = data[:, 2]",
      "execution_count": null,
      "outputs": []
    },
    {
      "cell_type": "markdown",
      "source": "### 2.1 Visualize the data\n\nSimilar to the previous parts of this exercise, `plotData` is used to generate a figure, where the axes are the two test scores, and the positive (y = 1, accepted) and negative (y = 0, rejected) examples are shown with\ndifferent markers.",
      "metadata": {
        "cell_id": "00035-eaa1a9c2-99ca-481e-ad60-f04bde03e3ac",
        "deepnote_cell_type": "markdown"
      }
    },
    {
      "cell_type": "code",
      "metadata": {
        "cell_id": "00036-aa2c75f5-afb3-4e17-9741-3c73b5a51a35",
        "deepnote_to_be_reexecuted": false,
        "source_hash": "7451654c",
        "execution_start": 1614606317731,
        "execution_millis": 161,
        "deepnote_cell_type": "code"
      },
      "source": "plotData(X, y)\n# Labels and Legend\npyplot.xlabel('Microchip Test 1')\npyplot.ylabel('Microchip Test 2')\n\n# Specified in plot order\npyplot.legend(['y = 1', 'y = 0'], loc='upper right')\npass",
      "execution_count": null,
      "outputs": [
        {
          "data": {
            "text/plain": "<Figure size 432x288 with 1 Axes>",
            "image/png": "[encoded data removed]"
          },
          "metadata": {
            "needs_background": "light"
          },
          "output_type": "display_data"
        }
      ]
    },
    {
      "cell_type": "markdown",
      "source": "The above figure shows that our dataset cannot be separated into positive and negative examples by a straight-line through the plot. Therefore, a straight-forward application of logistic regression will not perform well on this dataset since logistic regression will only be able to find a linear decision boundary.\n\n### 2.2 Feature mapping\n\nOne way to fit the data better is to create more features from each data point. In the function `mapFeature` defined in the file `utils.py`, we will map the features into all polynomial terms of $x_1$ and $x_2$ up to the sixth power.\n\n$$ \\text{mapFeature}(x) = \\begin{bmatrix} 1 & x_1 & x_2 & x_1^2 & x_1 x_2 & x_2^2 & x_1^3 & \\dots & x_1 x_2^5 & x_2^6 \\end{bmatrix}^T $$\n\nAs a result of this mapping, our vector of two features (the scores on two QA tests) has been transformed into a 28-dimensional vector. A logistic regression classifier trained on this higher-dimension feature vector will have a more complex decision boundary and will appear nonlinear when drawn in our 2-dimensional plot.\nWhile the feature mapping allows us to build a more expressive classifier, it also more susceptible to overfitting. In the next parts of the exercise, you will implement regularized logistic regression to fit the data and also see for yourself how regularization can help combat the overfitting problem.\n",
      "metadata": {
        "cell_id": "00037-2b44475a-ee73-4b1d-b407-01ef74a79b77",
        "deepnote_cell_type": "markdown"
      }
    },
    {
      "cell_type": "code",
      "metadata": {
        "cell_id": "00038-33bb151e-5881-4b3f-adc8-20ab46bf22cf",
        "deepnote_cell_type": "code"
      },
      "source": "# Note that mapFeature also adds a column of ones for us, so the intercept\n# term is handled\nX = utils.mapFeature(X[:, 0], X[:, 1])",
      "execution_count": null,
      "outputs": []
    },
    {
      "cell_type": "markdown",
      "source": "<a id=\"section5\"></a>\n### 2.3 Cost function and gradient\n\nNow you will implement code to compute the cost function and gradient for regularized logistic regression. Complete the code for the function `costFunctionReg` below to return the cost and gradient.\n\nRecall that the regularized cost function in logistic regression is\n\n$$ J(\\theta) = \\frac{1}{m} \\sum_{i=1}^m \\left[ -y^{(i)}\\log \\left( h_\\theta \\left(x^{(i)} \\right) \\right) - \\left( 1 - y^{(i)} \\right) \\log \\left( 1 - h_\\theta \\left( x^{(i)} \\right) \\right) \\right] + \\frac{\\lambda}{2m} \\sum_{j=1}^n \\theta_j^2 $$\n\nNote that you should not regularize the parameters $\\theta_0$. The gradient of the cost function is a vector where the $j^{th}$ element is defined as follows:\n\n$$ \\frac{\\partial J(\\theta)}{\\partial \\theta_0} = \\frac{1}{m} \\sum_{i=1}^m \\left( h_\\theta \\left(x^{(i)}\\right) - y^{(i)} \\right) x_j^{(i)} \\qquad \\text{for } j =0 $$\n\n$$ \\frac{\\partial J(\\theta)}{\\partial \\theta_j} = \\left( \\frac{1}{m} \\sum_{i=1}^m \\left( h_\\theta \\left(x^{(i)}\\right) - y^{(i)} \\right) x_j^{(i)} \\right) + \\frac{\\lambda}{m}\\theta_j \\qquad \\text{for } j \\ge 1 $$\n<a id=\"costFunctionReg\"></a>",
      "metadata": {
        "cell_id": "00039-0f80013c-44ad-4bc4-9878-cb43f09fc989",
        "deepnote_cell_type": "markdown"
      }
    },
    {
      "cell_type": "code",
      "metadata": {
        "cell_id": "00040-3ad45ca7-99e3-4d28-aee8-f6937f231cc4",
        "deepnote_cell_type": "code"
      },
      "source": "def costFunctionReg(theta, X, y, lambda_):\n    \"\"\"\n    Compute cost and gradient for logistic regression with regularization.\n    \n    Parameters\n    ----------\n    theta : array_like\n        Logistic regression parameters. A vector with shape (n, ). n is \n        the number of features including any intercept. If we have mapped\n        our initial features into polynomial features, then n is the total \n        number of polynomial features. \n    \n    X : array_like\n        The data set with shape (m x n). m is the number of examples, and\n        n is the number of features (after feature mapping).\n    \n    y : array_like\n        The data labels. A vector with shape (m, ).\n    \n    lambda_ : float\n        The regularization parameter. \n    \n    Returns\n    -------\n    J : float\n        The computed value for the regularized cost function. \n    \n    grad : array_like\n        A vector of shape (n, ) which is the gradient of the cost\n        function with respect to theta, at the current values of theta.\n    \n    Instructions\n    ------------\n    Compute the cost `J` of a particular choice of theta.\n    Compute the partial derivatives and set `grad` to the partial\n    derivatives of the cost w.r.t. each parameter in theta.\n    \"\"\"\n    # Initialize some useful values\n    m = y.size  # number of training examples\n\n    # You need to return the following variables correctly \n    J = 0\n    grad = np.zeros(theta.shape)\n\n    # ===================== YOUR CODE HERE ======================\n\n    \n    \n    # =============================================================\n    return J, grad",
      "execution_count": null,
      "outputs": []
    },
    {
      "cell_type": "markdown",
      "source": "Once you are done with the `costFunctionReg`, we call it below using the initial value of $\\theta$ (initialized to all zeros), and also another test case where $\\theta$ is all ones.",
      "metadata": {
        "cell_id": "00041-cf79f9cb-3106-49ed-8194-7c0b971f4301",
        "deepnote_cell_type": "markdown"
      }
    },
    {
      "cell_type": "code",
      "metadata": {
        "cell_id": "00042-7bc64a40-1a49-419a-be04-c4092e64e683",
        "deepnote_cell_type": "code"
      },
      "source": "# Initialize fitting parameters\ninitial_theta = np.zeros(X.shape[1])\n\n# Set regularization parameter lambda to 1\n# DO NOT use `lambda` as a variable name in python\n# because it is a python keyword\nlambda_ = 1\n\n# Compute and display initial cost and gradient for regularized logistic\n# regression\ncost, grad = costFunctionReg(initial_theta, X, y, lambda_)\n\nprint('Cost at initial theta (zeros): {:.3f}'.format(cost))\nprint('Expected cost (approx)       : 0.693\\n')\n\nprint('Gradient at initial theta (zeros) - first five values only:')\nprint('\\t[{:.4f}, {:.4f}, {:.4f}, {:.4f}, {:.4f}]'.format(*grad[:5]))\nprint('Expected gradients (approx) - first five values only:')\nprint('\\t[0.0085, 0.0188, 0.0001, 0.0503, 0.0115]\\n')\n\n\n# Compute and display cost and gradient\n# with all-ones theta and lambda = 10\ntest_theta = np.ones(X.shape[1])\ncost, grad = costFunctionReg(test_theta, X, y, 10)\n\nprint('------------------------------\\n')\nprint('Cost at test theta    : {:.2f}'.format(cost))\nprint('Expected cost (approx): 3.16\\n')\n\nprint('Gradient at test theta - first five values only:')\nprint('\\t[{:.4f}, {:.4f}, {:.4f}, {:.4f}, {:.4f}]'.format(*grad[:5]))\nprint('Expected gradients (approx) - first five values only:')\nprint('\\t[0.3460, 0.1614, 0.1948, 0.2269, 0.0922]')",
      "execution_count": null,
      "outputs": []
    },
    {
      "cell_type": "markdown",
      "source": "*You should now submit your solutions.*",
      "metadata": {
        "cell_id": "00043-5975daa4-0a56-4fb9-9ced-91bf867f3e1c",
        "deepnote_cell_type": "markdown"
      }
    },
    {
      "cell_type": "code",
      "metadata": {
        "cell_id": "00044-eb71a506-a4d1-4b54-a920-b756b8082c08",
        "deepnote_cell_type": "code"
      },
      "source": "grader[5] = costFunctionReg\ngrader[6] = costFunctionReg\ngrader.grade()",
      "execution_count": null,
      "outputs": []
    },
    {
      "cell_type": "markdown",
      "source": "#### 2.3.1 Learning parameters using `scipy.optimize.minimize`\n\nSimilar to the previous parts, you will use `optimize.minimize` to learn the optimal parameters $\\theta$. If you have completed the cost and gradient for regularized logistic regression (`costFunctionReg`) correctly, you should be able to step through the next part of to learn the parameters $\\theta$ using `optimize.minimize`.",
      "metadata": {
        "cell_id": "00045-01250340-a440-4014-9a17-2a40038a72d9",
        "deepnote_cell_type": "markdown"
      }
    },
    {
      "cell_type": "markdown",
      "source": "### 2.4 Plotting the decision boundary\n\nTo help you visualize the model learned by this classifier, we have provided the function `plotDecisionBoundary` which plots the (non-linear) decision boundary that separates the positive and negative examples. In `plotDecisionBoundary`, we plot the non-linear decision boundary by computing the classifier’s predictions on an evenly spaced grid and then and draw a contour plot where the predictions change from y = 0 to y = 1. ",
      "metadata": {
        "cell_id": "00046-f23d0e0b-0486-4225-baa9-951e672c5baf",
        "deepnote_cell_type": "markdown"
      }
    },
    {
      "cell_type": "markdown",
      "source": "### 2.5 Optional (ungraded) exercises\n\nIn this part of the exercise, you will get to try out different regularization parameters for the dataset to understand how regularization prevents overfitting.\n\nNotice the changes in the decision boundary as you vary $\\lambda$. With a small\n$\\lambda$, you should find that the classifier gets almost every training example correct, but draws a very complicated boundary, thus overfitting the data. See the following figures for the decision boundaries you should get for different values of $\\lambda$. \n\n<table>\n    <tr>\n        <td style=\"text-align:center\">\n            No regularization (overfitting)<img src=\"Figures/decision_boundary3.png\">\n        </td>        \n        <td style=\"text-align:center\">\n            Decision boundary with regularization\n            <img src=\"Figures/decision_boundary2.png\">\n        </td>\n        <td style=\"text-align:center\">\n            Decision boundary with too much regularization\n            <img src=\"Figures/decision_boundary4.png\">\n        </td>        \n    <tr>\n</table>\n\nThis is not a good decision boundary: for example, it predicts that a point at $x = (−0.25, 1.5)$ is accepted $(y = 1)$, which seems to be an incorrect decision given the training set.\nWith a larger $\\lambda$, you should see a plot that shows an simpler decision boundary which still separates the positives and negatives fairly well. However, if $\\lambda$ is set to too high a value, you will not get a good fit and the decision boundary will not follow the data so well, thus underfitting the data.",
      "metadata": {
        "cell_id": "00047-97e8cb87-a17d-42dc-b710-5c1feb9d2ffa",
        "deepnote_cell_type": "markdown"
      }
    },
    {
      "cell_type": "code",
      "metadata": {
        "cell_id": "00048-1021f4ac-f5b3-4946-84c3-a5394bd9b55e",
        "deepnote_cell_type": "code"
      },
      "source": "# Initialize fitting parameters\ninitial_theta = np.zeros(X.shape[1])\n\n# Set regularization parameter lambda to 1 (you should vary this)\nlambda_ = 1\n\n# set options for optimize.minimize\noptions= {'maxiter': 100}\n\nres = optimize.minimize(costFunctionReg,\n                        initial_theta,\n                        (X, y, lambda_),\n                        jac=True,\n                        method='TNC',\n                        options=options)\n\n# the fun property of OptimizeResult object returns\n# the value of costFunction at optimized theta\ncost = res.fun\n\n# the optimized theta is in the x property of the result\ntheta = res.x\n\nutils.plotDecisionBoundary(plotData, theta, X, y)\npyplot.xlabel('Microchip Test 1')\npyplot.ylabel('Microchip Test 2')\npyplot.legend(['y = 1', 'y = 0'])\npyplot.grid(False)\npyplot.title('lambda = %0.2f' % lambda_)\n\n# Compute accuracy on our training set\np = predict(theta, X)\n\nprint('Train Accuracy: %.1f %%' % (np.mean(p == y) * 100))\nprint('Expected accuracy (with lambda = 1): 83.1 % (approx)\\n')\n",
      "execution_count": null,
      "outputs": []
    },
    {
      "cell_type": "markdown",
      "source": "*You do not need to submit any solutions for these optional (ungraded) exercises.*",
      "metadata": {
        "cell_id": "00049-8b5a4fdb-b301-4908-95d1-f7f591fa70c8",
        "deepnote_cell_type": "markdown"
      }
    },
    {
      "cell_type": "markdown",
      "source": "<a style='text-decoration:none;line-height:16px;display:flex;color:#5B5B62;padding:10px;justify-content:end;' href='https://deepnote.com?utm_source=created-in-deepnote-cell&projectId=d19c0b5d-d370-4133-9998-1667e12323b0' target=\"_blank\">\n<img style='display:inline;max-height:16px;margin:0px;margin-right:7.5px;' src='data:image/svg+xml;base64,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' > </img>\nCreated in <span style='font-weight:600;margin-left:4px;'>Deepnote</span></a>",
      "metadata": {
        "tags": [],
        "created_in_deepnote_cell": true,
        "deepnote_cell_type": "markdown"
      }
    }
  ],
  "nbformat": 4,
  "nbformat_minor": 2,
  "metadata": {
    "kernelspec": {
      "display_name": "Python 3",
      "language": "python",
      "name": "python3"
    },
    "language_info": {
      "codemirror_mode": {
        "name": "ipython",
        "version": 3
      },
      "file_extension": ".py",
      "mimetype": "text/x-python",
      "name": "python",
      "nbconvert_exporter": "python",
      "pygments_lexer": "ipython3",
      "version": "3.6.4"
    },
    "deepnote_notebook_id": "a6e9195b-6456-4717-b8bf-fc1eab15fb79",
    "deepnote": {},
    "deepnote_execution_queue": []
  }
}